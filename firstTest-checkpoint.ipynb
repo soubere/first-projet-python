{
 "cells": [
  {
   "cell_type": "code",
   "execution_count": 1,
   "id": "b640785f-6413-4bf0-8d24-f4298f838a0a",
   "metadata": {},
   "outputs": [
    {
     "name": "stdout",
     "output_type": "stream",
     "text": [
      "Welcome to python world! Let's start coding\n"
     ]
    }
   ],
   "source": [
    "print(\"Welcome to python world! Let's start coding\")"
   ]
  },
  {
   "cell_type": "code",
   "execution_count": null,
   "id": "db27d392-df1f-4bba-90f8-e4bbb4ba6ef5",
   "metadata": {},
   "outputs": [],
   "source": []
  }
 ],
 "metadata": {
  "kernelspec": {
   "display_name": "Python 3",
   "language": "python",
   "name": "python3"
  },
  "language_info": {
   "codemirror_mode": {
    "name": "ipython",
    "version": 3
   },
   "file_extension": ".py",
   "mimetype": "text/x-python",
   "name": "python",
   "nbconvert_exporter": "python",
   "pygments_lexer": "ipython3",
   "version": "3.8.8"
  }
 },
 "nbformat": 4,
 "nbformat_minor": 5
}
